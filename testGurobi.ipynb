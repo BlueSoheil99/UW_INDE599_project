{
 "cells": [
  {
   "cell_type": "markdown",
   "id": "c8e4a3f5-a552-4c18-9b0f-cfd6a4ace2e5",
   "metadata": {},
   "source": [
    "implementation of \n",
    "https://support.gurobi.com/hc/en-us/articles/17278438215313-Tutorial-Getting-Started-with-the-Gurobi-Python-API\n",
    "\n",
    "note that this is Python API and not Python Matrix API\n"
   ]
  },
  {
   "cell_type": "code",
   "id": "533805498b2918d",
   "metadata": {
    "ExecuteTime": {
     "end_time": "2025-03-06T05:49:36.698832Z",
     "start_time": "2025-03-06T05:49:36.671739Z"
    }
   },
   "source": [
    "import gurobipy as gp\n",
    "from gurobipy import GRB"
   ],
   "outputs": [],
   "execution_count": 1
  },
  {
   "cell_type": "code",
   "id": "8e8e01a1c303b090",
   "metadata": {
    "ExecuteTime": {
     "end_time": "2025-03-06T05:49:36.707070Z",
     "start_time": "2025-03-06T05:49:36.705171Z"
    }
   },
   "source": [
    "def create_model():\n",
    "    m = gp.Model('mip')\n",
    "    # add variables\n",
    "    x = m.addVar(vtype=GRB.BINARY, name='x')\n",
    "    y = m.addVar(vtype=GRB.BINARY, name='y')\n",
    "    z = m.addVar(vtype=GRB.BINARY, name='z')\n",
    "    # you can also use Model.addVars for adding more variables\n",
    "\n",
    "    m.addConstr(x + 2*y + 3*z <= 4, 'c0')\n",
    "    m.addConstr(x + y >= 1, 'c1')\n",
    "\n",
    "    m.setObjective(x + y + 2*z, GRB.MAXIMIZE)\n",
    "    # obj = gp.LinExpr()\n",
    "    # obj += x\n",
    "    # obj += y\n",
    "    # obj += 2 * z\n",
    "    # m.setObjective(obj, GRB.MAXIMIZE)\n",
    "    return m"
   ],
   "outputs": [],
   "execution_count": 2
  },
  {
   "cell_type": "code",
   "id": "c68d6fa4-8486-4c90-a1ae-c55e0bed697f",
   "metadata": {
    "ExecuteTime": {
     "end_time": "2025-03-06T05:49:42.835558Z",
     "start_time": "2025-03-06T05:49:42.803634Z"
    }
   },
   "source": [
    "with gp.Env(logfilename='gurobiLog.log', empty=False, params=None) as env:\n",
    "    # or simply run `with gp.Env() as env:`\n",
    "    with gp.Model(env=env) as model:\n",
    "        try:\n",
    "            m = create_model()\n",
    "            m.optimize()\n",
    "            for v in m.getVars():\n",
    "                print(f'{v.VarName}: {v.X}')\n",
    "            print(f'objective value: {m.Objval}')\n",
    "        \n",
    "        except gp.GurobiError as e:\n",
    "            print('Error code ' + str(e.errno) + ': ' + str(e))\n",
    "        except AttributeError:\n",
    "            print('Encountered an attribute error')"
   ],
   "outputs": [
    {
     "name": "stdout",
     "output_type": "stream",
     "text": [
      "Set parameter Username\n",
      "Set parameter LicenseID to value 2622289\n",
      "Set parameter LogFile to value \"gurobiLog.log\"\n",
      "Academic license - for non-commercial use only - expires 2026-02-14\n",
      "Set parameter Username\n",
      "Set parameter LicenseID to value 2622289\n",
      "Academic license - for non-commercial use only - expires 2026-02-14\n",
      "Gurobi Optimizer version 12.0.1 build v12.0.1rc0 (mac64[arm] - Darwin 24.1.0 24B91)\n",
      "\n",
      "CPU model: Apple M3\n",
      "Thread count: 8 physical cores, 8 logical processors, using up to 8 threads\n",
      "\n",
      "Optimize a model with 2 rows, 3 columns and 5 nonzeros\n",
      "Model fingerprint: 0x98886187\n",
      "Variable types: 0 continuous, 3 integer (3 binary)\n",
      "Coefficient statistics:\n",
      "  Matrix range     [1e+00, 3e+00]\n",
      "  Objective range  [1e+00, 2e+00]\n",
      "  Bounds range     [1e+00, 1e+00]\n",
      "  RHS range        [1e+00, 4e+00]\n",
      "Found heuristic solution: objective 2.0000000\n",
      "Presolve removed 2 rows and 3 columns\n",
      "Presolve time: 0.00s\n",
      "Presolve: All rows and columns removed\n",
      "\n",
      "Explored 0 nodes (0 simplex iterations) in 0.01 seconds (0.00 work units)\n",
      "Thread count was 1 (of 8 available processors)\n",
      "\n",
      "Solution count 2: 3 2 \n",
      "\n",
      "Optimal solution found (tolerance 1.00e-04)\n",
      "Best objective 3.000000000000e+00, best bound 3.000000000000e+00, gap 0.0000%\n",
      "x: 1.0\n",
      "y: 0.0\n",
      "z: 1.0\n",
      "objective value: 3.0\n"
     ]
    }
   ],
   "execution_count": 3
  },
  {
   "cell_type": "code",
   "execution_count": null,
   "id": "a9ee1fec-48a3-4fc4-a96a-ec15f9f539c0",
   "metadata": {},
   "outputs": [],
   "source": []
  }
 ],
 "metadata": {
  "kernelspec": {
   "display_name": "INDE599_project",
   "language": "python",
   "name": "inde599_project"
  },
  "language_info": {
   "codemirror_mode": {
    "name": "ipython",
    "version": 3
   },
   "file_extension": ".py",
   "mimetype": "text/x-python",
   "name": "python",
   "nbconvert_exporter": "python",
   "pygments_lexer": "ipython3",
   "version": "3.11.11"
  }
 },
 "nbformat": 4,
 "nbformat_minor": 5
}
